{
 "cells": [
  {
   "cell_type": "markdown",
   "metadata": {},
   "source": [
    "## GMU gates analysis"
   ]
  },
  {
   "cell_type": "code",
   "execution_count": 82,
   "metadata": {},
   "outputs": [],
   "source": [
    "import numpy as np\n",
    "import matplotlib.pyplot as plt"
   ]
  },
  {
   "cell_type": "code",
   "execution_count": 2,
   "metadata": {},
   "outputs": [],
   "source": [
    "gates = np.load('model_save_mmtr/moviescope_VideoTextAudioPosterMetaGMUSeed5_mmtr_model_run/gates.npy')"
   ]
  },
  {
   "cell_type": "code",
   "execution_count": 5,
   "metadata": {},
   "outputs": [
    {
     "data": {
      "text/plain": [
       "(987, 3840)"
      ]
     },
     "execution_count": 5,
     "metadata": {},
     "output_type": "execute_result"
    }
   ],
   "source": [
    "gates.shape"
   ]
  },
  {
   "cell_type": "code",
   "execution_count": 87,
   "metadata": {},
   "outputs": [
    {
     "data": {
      "image/png": "[encoded data removed]",
      "text/plain": [
       "<Figure size 432x288 with 1 Axes>"
      ]
     },
     "metadata": {
      "needs_background": "light"
     },
     "output_type": "display_data"
    }
   ],
   "source": [
    "plt.hist(np.ravel(gates))\n",
    "plt.show()"
   ]
  },
  {
   "cell_type": "markdown",
   "metadata": {},
   "source": [
    "#### Text"
   ]
  },
  {
   "cell_type": "code",
   "execution_count": 6,
   "metadata": {},
   "outputs": [],
   "source": [
    "txt_gates = gates[:, :768]"
   ]
  },
  {
   "cell_type": "code",
   "execution_count": 13,
   "metadata": {},
   "outputs": [
    {
     "data": {
      "text/plain": [
       "0.53641474"
      ]
     },
     "execution_count": 13,
     "metadata": {},
     "output_type": "execute_result"
    }
   ],
   "source": [
    "np.mean(np.mean(txt_gates, axis=0))"
   ]
  },
  {
   "cell_type": "code",
   "execution_count": 97,
   "metadata": {},
   "outputs": [
    {
     "data": {
      "image/png": "[encoded data removed]",
      "text/plain": [
       "<Figure size 432x288 with 2 Axes>"
      ]
     },
     "metadata": {
      "needs_background": "light"
     },
     "output_type": "display_data"
    }
   ],
   "source": [
    "#fig, ax = plt.subplots(figsize=(10, 10))\n",
    "plt.imshow(txt_gates, cmap='gray')\n",
    "plt.colorbar()\n",
    "plt.show()"
   ]
  },
  {
   "cell_type": "markdown",
   "metadata": {},
   "source": [
    "#### Video"
   ]
  },
  {
   "cell_type": "code",
   "execution_count": 28,
   "metadata": {},
   "outputs": [],
   "source": [
    "vid_gates = gates[:, 768:768*2]"
   ]
  },
  {
   "cell_type": "code",
   "execution_count": 29,
   "metadata": {},
   "outputs": [
    {
     "data": {
      "text/plain": [
       "0.54050523"
      ]
     },
     "execution_count": 29,
     "metadata": {},
     "output_type": "execute_result"
    }
   ],
   "source": [
    "np.mean(np.mean(vid_gates, axis=0))"
   ]
  },
  {
   "cell_type": "markdown",
   "metadata": {},
   "source": [
    "#### Audio"
   ]
  },
  {
   "cell_type": "code",
   "execution_count": 30,
   "metadata": {},
   "outputs": [],
   "source": [
    "audio_gates = gates[:, 768*2:768*3]"
   ]
  },
  {
   "cell_type": "code",
   "execution_count": 31,
   "metadata": {},
   "outputs": [
    {
     "data": {
      "text/plain": [
       "0.51183224"
      ]
     },
     "execution_count": 31,
     "metadata": {},
     "output_type": "execute_result"
    }
   ],
   "source": [
    "np.mean(np.mean(audio_gates, axis=0))"
   ]
  },
  {
   "cell_type": "markdown",
   "metadata": {},
   "source": [
    "#### Image"
   ]
  },
  {
   "cell_type": "code",
   "execution_count": 32,
   "metadata": {},
   "outputs": [],
   "source": [
    "img_gates = gates[:, 768*3:768*4]"
   ]
  },
  {
   "cell_type": "code",
   "execution_count": 33,
   "metadata": {},
   "outputs": [
    {
     "data": {
      "text/plain": [
       "0.536018"
      ]
     },
     "execution_count": 33,
     "metadata": {},
     "output_type": "execute_result"
    }
   ],
   "source": [
    "np.mean(np.mean(img_gates, axis=0))"
   ]
  },
  {
   "cell_type": "markdown",
   "metadata": {},
   "source": [
    "#### Metadata"
   ]
  },
  {
   "cell_type": "code",
   "execution_count": 34,
   "metadata": {},
   "outputs": [],
   "source": [
    "meta_gates = gates[:, 768*4:]"
   ]
  },
  {
   "cell_type": "code",
   "execution_count": 35,
   "metadata": {},
   "outputs": [
    {
     "data": {
      "text/plain": [
       "0.5258729"
      ]
     },
     "execution_count": 35,
     "metadata": {},
     "output_type": "execute_result"
    }
   ],
   "source": [
    "np.mean(np.mean(meta_gates, axis=0))"
   ]
  },
  {
   "cell_type": "markdown",
   "metadata": {},
   "source": [
    "### Stack predictions of each modality in new axis"
   ]
  },
  {
   "cell_type": "code",
   "execution_count": 40,
   "metadata": {},
   "outputs": [],
   "source": [
    "all_gates = np.stack([txt_gates, vid_gates, audio_gates, img_gates, meta_gates], axis=1)"
   ]
  },
  {
   "cell_type": "code",
   "execution_count": 41,
   "metadata": {},
   "outputs": [
    {
     "data": {
      "text/plain": [
       "(987, 5, 768)"
      ]
     },
     "execution_count": 41,
     "metadata": {},
     "output_type": "execute_result"
    }
   ],
   "source": [
    "all_gates.shape"
   ]
  },
  {
   "cell_type": "code",
   "execution_count": 150,
   "metadata": {},
   "outputs": [
    {
     "data": {
      "image/png": "[encoded data removed]",
      "text/plain": [
       "<Figure size 360x720 with 1 Axes>"
      ]
     },
     "metadata": {
      "needs_background": "light"
     },
     "output_type": "display_data"
    }
   ],
   "source": [
    "def forceAspect(ax,aspect):\n",
    "    im = ax.get_images()\n",
    "    extent =  im[0].get_extent()\n",
    "    ax.set_aspect(abs((extent[1]-extent[0])/(extent[3]-extent[2]))/aspect)\n",
    "\n",
    "fig = plt.figure()\n",
    "fig.set_size_inches(5,10)\n",
    "ax = fig.add_subplot(111)\n",
    "\n",
    "limit = 50\n",
    "img = plt.imshow(all_gates[0,:,:limit], extent=[0,limit-1,all_gates.shape[1]-1,0])\n",
    "forceAspect(ax, aspect=1.5)"
   ]
  },
  {
   "cell_type": "markdown",
   "metadata": {},
   "source": [
    "### Max activation per modality\n",
    "Get index of modality with maximum value for each dimension:\n",
    "\n",
    "* max_activation[i,j] $\\in \\{0,1,2,3,4\\}$ for $i = 1,2, ..., N$ and $j = 1,2, ..., 768$"
   ]
  },
  {
   "cell_type": "code",
   "execution_count": 47,
   "metadata": {},
   "outputs": [],
   "source": [
    "max_activation = np.argmax(all_gates, axis=1)"
   ]
  },
  {
   "cell_type": "code",
   "execution_count": 48,
   "metadata": {},
   "outputs": [
    {
     "data": {
      "text/plain": [
       "(987, 768)"
      ]
     },
     "execution_count": 48,
     "metadata": {},
     "output_type": "execute_result"
    }
   ],
   "source": [
    "max_activation.shape"
   ]
  },
  {
   "cell_type": "markdown",
   "metadata": {},
   "source": [
    "#### Get frequencies of modality index for each test example (1,2, ..., N)"
   ]
  },
  {
   "cell_type": "code",
   "execution_count": 65,
   "metadata": {},
   "outputs": [],
   "source": [
    "modality_count = list(map(np.bincount, max_activation))\n",
    "modality_count = np.array(modality_count)"
   ]
  },
  {
   "cell_type": "code",
   "execution_count": 67,
   "metadata": {},
   "outputs": [
    {
     "data": {
      "text/plain": [
       "(987, 5)"
      ]
     },
     "execution_count": 67,
     "metadata": {},
     "output_type": "execute_result"
    }
   ],
   "source": [
    "modality_count.shape"
   ]
  },
  {
   "cell_type": "code",
   "execution_count": 72,
   "metadata": {},
   "outputs": [
    {
     "data": {
      "text/plain": [
       "array([[424, 187,  85,  50,  22],\n",
       "       [409, 187,  91,  55,  26],\n",
       "       [424, 187,  85,  50,  22],\n",
       "       [420, 187,  86,  53,  22],\n",
       "       [420, 193,  85,  46,  24],\n",
       "       [423, 185,  86,  50,  24],\n",
       "       [414, 188,  86,  54,  26],\n",
       "       [421, 187,  86,  52,  22],\n",
       "       [423, 186,  86,  51,  22],\n",
       "       [421, 187,  85,  53,  22]])"
      ]
     },
     "execution_count": 72,
     "metadata": {},
     "output_type": "execute_result"
    }
   ],
   "source": [
    "modality_count[:10]"
   ]
  },
  {
   "cell_type": "code",
   "execution_count": 126,
   "metadata": {},
   "outputs": [
    {
     "data": {
      "image/png": "[encoded data removed]",
      "text/plain": [
       "<Figure size 360x720 with 1 Axes>"
      ]
     },
     "metadata": {
      "needs_background": "light"
     },
     "output_type": "display_data"
    }
   ],
   "source": [
    "def forceAspect(ax,aspect):\n",
    "    im = ax.get_images()\n",
    "    extent =  im[0].get_extent()\n",
    "    ax.set_aspect(abs((extent[1]-extent[0])/(extent[3]-extent[2]))/aspect)\n",
    "\n",
    "fig = plt.figure()\n",
    "fig.set_size_inches(5,10)\n",
    "ax = fig.add_subplot(111)\n",
    "\n",
    "img = plt.imshow(modality_count, extent=[0,4,modality_count.shape[0]-1,0])\n",
    "forceAspect(ax, aspect=0.3)"
   ]
  },
  {
   "cell_type": "code",
   "execution_count": null,
   "metadata": {},
   "outputs": [],
   "source": [
    "#fig, ax = plt.subplots(figsize=(1, 100))\n",
    "plt.figure(figsize = (1,100))\n",
    "plt.imshow(modality_count[:100])\n",
    "plt.show()"
   ]
  },
  {
   "cell_type": "markdown",
   "metadata": {},
   "source": [
    "### Frequencies of modality's activation > threshold"
   ]
  },
  {
   "cell_type": "code",
   "execution_count": 177,
   "metadata": {},
   "outputs": [],
   "source": [
    "from collections import Counter\n",
    "\n",
    "modality_dist = []\n",
    "threshold = 0.9\n",
    "\n",
    "for i in range(all_gates.shape[0]):\n",
    "    example_modality_freq = []\n",
    "    for j in range(all_gates.shape[1]):\n",
    "        modality_true_counts = Counter(all_gates[i][j] > threshold)[True]\n",
    "        example_modality_freq.append(modality_true_counts)\n",
    "    modality_dist.append(np.array(example_modality_freq))\n",
    "\n",
    "modality_dist = np.array(modality_dist)"
   ]
  },
  {
   "cell_type": "code",
   "execution_count": 184,
   "metadata": {},
   "outputs": [
    {
     "data": {
      "image/png": "[encoded data removed]",
      "text/plain": [
       "<Figure size 360x720 with 2 Axes>"
      ]
     },
     "metadata": {
      "needs_background": "light"
     },
     "output_type": "display_data"
    }
   ],
   "source": [
    "def forceAspect(ax,aspect):\n",
    "    im = ax.get_images()\n",
    "    extent =  im[0].get_extent()\n",
    "    ax.set_aspect(abs((extent[1]-extent[0])/(extent[3]-extent[2]))/aspect)\n",
    "    plt.colorbar()\n",
    "\n",
    "fig = plt.figure()\n",
    "fig.set_size_inches(5,10)\n",
    "ax = fig.add_subplot(111)\n",
    "\n",
    "img = plt.imshow(modality_dist, extent=[0,4,modality_dist.shape[0]-1,0])\n",
    "forceAspect(ax, aspect=0.3)\n",
    "modality_xticks = ['txt','vid','aud','img', 'met']\n",
    "ax.set_xticklabels(modality_xticks);"
   ]
  },
  {
   "cell_type": "markdown",
   "metadata": {},
   "source": [
    "### Frequencies of modality's activation > threshold for correct predicitons"
   ]
  },
  {
   "cell_type": "code",
   "execution_count": 327,
   "metadata": {},
   "outputs": [],
   "source": [
    "model_preds = load_labels(\"model_save_mmtr/moviescope_VideoTextPosterMetaGMUSeed5_mmtr_model_run/test_labels_gold.txt\")\n",
    "ground_truth_labels = load_labels(\"model_save_mmtr/moviescope_VideoTextPosterMetaGMUSeed5_mmtr_model_run/test_labels_pred.txt\")"
   ]
  },
  {
   "cell_type": "code",
   "execution_count": 328,
   "metadata": {},
   "outputs": [],
   "source": [
    "preds_equal_eval = list(map(np.all, np.equal(model_preds, ground_truth_labels)))\n",
    "preds_equal_eval = np.array(preds_equal_eval)"
   ]
  },
  {
   "cell_type": "code",
   "execution_count": 329,
   "metadata": {},
   "outputs": [],
   "source": [
    "correct_indexes = np.argwhere(preds_equal_eval == True)\n",
    "correct_indexes = np.squeeze(correct_indexes, axis=1)"
   ]
  },
  {
   "cell_type": "code",
   "execution_count": 337,
   "metadata": {},
   "outputs": [],
   "source": [
    "correct_modality_dist = modality_dist[correct_indexes]"
   ]
  },
  {
   "cell_type": "code",
   "execution_count": 338,
   "metadata": {},
   "outputs": [
    {
     "data": {
      "image/png": "[encoded data removed]",
      "text/plain": [
       "<Figure size 360x720 with 2 Axes>"
      ]
     },
     "metadata": {
      "needs_background": "light"
     },
     "output_type": "display_data"
    }
   ],
   "source": [
    "def forceAspect(ax,aspect):\n",
    "    im = ax.get_images()\n",
    "    extent =  im[0].get_extent()\n",
    "    ax.set_aspect(abs((extent[1]-extent[0])/(extent[3]-extent[2]))/aspect)\n",
    "    plt.colorbar()\n",
    "\n",
    "fig = plt.figure()\n",
    "fig.set_size_inches(5,10)\n",
    "ax = fig.add_subplot(111)\n",
    "\n",
    "img = plt.imshow(correct_modality_dist, extent=[0,4,correct_modality_dist.shape[0]-1,0])\n",
    "forceAspect(ax, aspect=0.3)\n",
    "modality_xticks = ['txt','vid','aud','img', 'met']\n",
    "ax.set_xticklabels(modality_xticks);"
   ]
  },
  {
   "cell_type": "markdown",
   "metadata": {},
   "source": [
    "### Get highest or lowest example index activatons per modality"
   ]
  },
  {
   "cell_type": "code",
   "execution_count": 339,
   "metadata": {},
   "outputs": [],
   "source": [
    "def get_extreme_index(modality_name, func, modality_dist):\n",
    "    modality_txt2idx = {'txt': 0,'vid': 1,'aud': 2,'img': 3, 'met': 4}\n",
    "    \n",
    "    return func(modality_dist[:, modality_txt2idx[modality_name]])"
   ]
  },
  {
   "cell_type": "markdown",
   "metadata": {},
   "source": [
    "#### Load test predictions, labels and metadata"
   ]
  },
  {
   "cell_type": "code",
   "execution_count": 215,
   "metadata": {},
   "outputs": [],
   "source": [
    "def load_labels(path):\n",
    "    with open(path, \"r\") as f:\n",
    "        all_preds = f.readlines()\n",
    "    preds_processed = [[int(e) for e in pred.strip('\\n').split()] for pred in all_preds]\n",
    "    return np.array(preds_processed)"
   ]
  },
  {
   "cell_type": "code",
   "execution_count": 221,
   "metadata": {},
   "outputs": [],
   "source": [
    "import json\n",
    "import pandas as pd\n",
    "\n",
    "metadata_df = pd.read_csv('../moviescope/movie_metadata.csv')\n",
    "data_labels = [json.loads(line) for line in open('../moviescope/train.jsonl')]\n",
    "\n",
    "with open(\"model_save_mmtr/moviescope_VideoTextPosterMetaGMUSeed5_mmtr_model_run/test_labels.txt\", \"r\") as f:\n",
    "    label_names = f.readlines()[0].split(\" \")\n",
    "    \n",
    "model_preds = load_labels(\"model_save_mmtr/moviescope_VideoTextPosterMetaGMUSeed5_mmtr_model_run/test_labels_pred.txt\")"
   ]
  },
  {
   "cell_type": "markdown",
   "metadata": {},
   "source": [
    "#### Get example where audio had the highest frequency"
   ]
  },
  {
   "cell_type": "code",
   "execution_count": 257,
   "metadata": {},
   "outputs": [
    {
     "data": {
      "text/plain": [
       "{'label': ['Drama', 'Fantasy', 'Horror'],\n",
       " 'id': 4350,\n",
       " 'synopsis': 'Alone in her home, Margaret White (Julianne Moore), a religious, yet disturbed woman, gives birth to a baby girl, intending to kill the infant but changes her mind. Years later, her daughter Carrie (Chloë Grace Moretz), a shy, unassertive girl, nears her graduation from Ewen High School in Maine. While showering after gym class at school, Carrie experiences her first menstrual period. She naively thinks she is bleeding to death. The other girls ridicule her, and longtime bully Chris Hargensen (Portia Doubleday) records the event on her smartphone and uploads it to YouTube. Gym teacher Miss Desjardin (Judy Greer) comforts Carrie and sends her home with Margaret, who believes menstruation is a sin. Margaret demands that Carrie abstain from showering with the others. When Carrie refuses, Margaret hits her with a Bible and locks her in her \"prayer closet\". As Carrie screams to be let out, a crack appears on the door, and the crucifix in the closet begins to bleed. Miss Desjardin informs the girls who teased Carrie that they will endure boot camp-style detention for their behavior. When Chris refuses, she is suspended from school and banned from the prom. She storms out, vowing revenge. Carrie learns that she has telekinesis, the ability to move things with her mind. She researches her abilities, learning to harness them. Sue Snell (Gabriella Wilde) regrets teasing Carrie in the shower room and attempts to make amends by asking her boyfriend, Tommy Ross (Ansel Elgort), to take Carrie to the prom. Carrie accepts Tommy\\'s invitation. When she tells her mother, Margaret forbids Carrie to attend. Asking her mother to relent, Carrie manifests her telekinesis. Margaret believes this power comes from the Devil and is proof that Carrie has been corrupted by sin. Chris, her boyfriend Billy Nolan (Alex Russell), and his friends plan revenge on Carrie. They kill a pig and drain its blood into a bucket. Margaret tries to prevent Carrie from going to the prom, but Carrie telekinetically locks her mother in the closet. At the prom, Carrie is nervous and shy, but Tommy kindly puts her at ease. As part of Chris and Billy\\'s plan, Chris\\' friend, Tina Blake (Zoë Belkin), slips fake ballots into the voting box, which name Carrie and Tommy prom queen and king. At home, Sue receives a text from Chris taunting her about her revenge on Carrie. Sue drives to the prom, arriving just as Carrie and Tommy are about to be crowned. Sue sees the bucket of pig\\'s blood dangling above Carrie, but before she can warn anyone Miss Desjardin hustles her out, suspecting that Sue is planning to humiliate Carrie. Chris dumps the bucket of pig\\'s blood onto Carrie and Tommy. Chris\\'s shower video appears on large screens above the stage, inciting laughter from some in the audience, until the bucket falls onto Tommy\\'s head, killing him. Enraged, Carrie takes her revenge telekinetically, killing several of the students and staff including Tina, Heather (Samantha Weinstein), Nicki and Lizzy (Karissa and Katie Strain), but spares Desjardin. A fire breaks out and, as the school burns to the ground, Carrie walks away, leaving a trail of fire and destruction in her wake. Chris and Billy attempt to flee in Billy\\'s car. Chris urges Billy to run Carrie over, but Carrie flips the car into a gas station, setting it on fire, and killing them. Carrie arrives home and she and Margaret embrace. Margaret tells Carrie about the night of Carrie\\'s conception. After having shared a bed platonically with her husband, they yielded to temptation one night and, after praying for strength, Carrie\\'s father \"took\" Margaret, who enjoyed the experience. Margaret attacks Carrie, who attempts to flee and ends up killing her with several sharp tools. She becomes hysterical and makes stones rain from the sky to crush the house. When Sue arrives, a furious Carrie grabs her with her powers, but senses something inside Sue, and tells her that her baby is a girl. Carrie pushes a stunned Sue out of the house to safety as the house collapses and apparently kills Carrie. As a voice-over gives her testimony in court regarding the prom incident, Sue visits Carrie\\'s vandalised grave and places a single white rose by the headstone. As she leaves, the gravestone\\'s surface begins to break.'}"
      ]
     },
     "execution_count": 257,
     "metadata": {},
     "output_type": "execute_result"
    }
   ],
   "source": [
    "example_id = get_extreme_index(\"aud\", np.argmax)\n",
    "data_labels[example_id]"
   ]
  },
  {
   "cell_type": "code",
   "execution_count": 258,
   "metadata": {},
   "outputs": [
    {
     "data": {
      "text/plain": [
       "color                                                                    Color\n",
       "director_name                                                  Kimberly Peirce\n",
       "num_critic_for_reviews                                                     359\n",
       "duration                                                                   100\n",
       "director_facebook_likes                                                    108\n",
       "actor_3_facebook_likes                                                     534\n",
       "actor_2_name                                                        Judy Greer\n",
       "actor_1_facebook_likes                                                   17000\n",
       "gross                                                              3.52666e+07\n",
       "genres                                                    Drama|Fantasy|Horror\n",
       "actor_1_name                                                Chloë Grace Moretz\n",
       "movie_title                                                            Carrie \n",
       "num_voted_users                                                         108248\n",
       "cast_total_facebook_likes                                                20051\n",
       "actor_3_name                                                  Portia Doubleday\n",
       "facenumber_in_poster                                                         1\n",
       "plot_keywords                outcast|prom|self injury|telekinesis|tragic event\n",
       "movie_imdb_link              http://www.imdb.com/title/tt1939659/?ref_=fn_t...\n",
       "num_user_for_reviews                                                       371\n",
       "language                                                               English\n",
       "country                                                                    USA\n",
       "content_rating                                                               R\n",
       "budget                                                                   3e+07\n",
       "title_year                                                                2013\n",
       "actor_2_facebook_likes                                                    2000\n",
       "imdb_score                                                                 5.9\n",
       "aspect_ratio                                                              2.35\n",
       "movie_facebook_likes                                                     39000\n",
       "Name: 4350, dtype: object"
      ]
     },
     "execution_count": 258,
     "metadata": {},
     "output_type": "execute_result"
    }
   ],
   "source": [
    "metadata_df.iloc[data_labels[example_id]['id']]"
   ]
  },
  {
   "cell_type": "code",
   "execution_count": 259,
   "metadata": {},
   "outputs": [
    {
     "name": "stdout",
     "output_type": "stream",
     "text": [
      "Predicted labels:  ['Comedy', 'Drama']\n",
      "Ground truth labels:  ['Drama', 'Fantasy', 'Horror']\n"
     ]
    }
   ],
   "source": [
    "model_label_preds = []\n",
    "\n",
    "for i, value in enumerate(model_preds[example_id]):\n",
    "    if value == 1:\n",
    "        model_label_preds.append(label_names[i])\n",
    "        \n",
    "ground_truth_labels = metadata_df.iloc[data_labels[example_id]['id']].genres.split('|')\n",
    "        \n",
    "print(f\"Predicted labels: \", model_label_preds)\n",
    "print(f\"Ground truth labels: \", ground_truth_labels)"
   ]
  },
  {
   "cell_type": "code",
   "execution_count": 260,
   "metadata": {},
   "outputs": [
    {
     "data": {
      "text/plain": [
       "array([416, 405, 417, 414, 407])"
      ]
     },
     "execution_count": 260,
     "metadata": {},
     "output_type": "execute_result"
    }
   ],
   "source": [
    "modality_dist[example_id]"
   ]
  },
  {
   "cell_type": "markdown",
   "metadata": {},
   "source": [
    "### Get highest or lowest example index activatons per modality for correct predictions"
   ]
  },
  {
   "cell_type": "code",
   "execution_count": 340,
   "metadata": {},
   "outputs": [
    {
     "data": {
      "text/plain": [
       "{'label': ['Drama'],\n",
       " 'id': 3888,\n",
       " 'synopsis': \"Bob Harris, an aging American movie star, arrives in Tokyo to film an advertisement for Suntory whisky. Charlotte, a young college graduate, is left in her hotel room by her husband, John, a celebrity photographer on assignment in Tokyo. Charlotte is unsure of her future with John, feeling detached from his lifestyle and disillusioned about their relationship. Bob's own 25-year marriage is strained as he goes through a midlife crisis. Each day, Bob and Charlotte encounter each other in the hotel, and finally meet at the hotel bar one night when neither can sleep. Eventually Charlotte invites Bob to meet with some local friends of hers. The two bond through a fun night in Tokyo, welcomed without prejudice by Charlotte's friends and experiencing Japanese nightlife and culture. In the days that follow, Bob and Charlotte's platonic relationship develops as they spend more time together. One night, each unable to sleep, the two share an intimate conversation about Charlotte's personal troubles and Bob's married life. On the penultimate night of his stay, Bob sleeps with the hotel bar's female jazz singer. The next morning Charlotte arrives at his room to invite him for lunch and overhears the woman in his room, leading to an argument over lunch. Later that night, during a fire alarm at the hotel, Bob and Charlotte reconcile and express how they will miss each other as they make a final visit to the hotel bar. The following morning, Bob is set to return to the United States. He tells Charlotte goodbye at the hotel lobby and sadly watches her walk back to the elevator. In a taxi to the airport, Bob sees Charlotte on a crowded street and gets out and goes to her. He embraces the tearful Charlotte and whispers something in her ear. The two share a kiss, say goodbye and Bob departs.\"}"
      ]
     },
     "execution_count": 340,
     "metadata": {},
     "output_type": "execute_result"
    }
   ],
   "source": [
    "example_id = get_extreme_index(\"txt\", np.argmin, correct_modality_dist)\n",
    "data_labels[example_id]"
   ]
  },
  {
   "cell_type": "code",
   "execution_count": 342,
   "metadata": {},
   "outputs": [
    {
     "data": {
      "text/plain": [
       "color                                                                    Color\n",
       "director_name                                                    Sofia Coppola\n",
       "num_critic_for_reviews                                                     265\n",
       "duration                                                                   101\n",
       "director_facebook_likes                                                      0\n",
       "actor_3_facebook_likes                                                      11\n",
       "actor_2_name                                                       Bill Murray\n",
       "actor_1_facebook_likes                                                   19000\n",
       "gross                                                               4.4566e+07\n",
       "genres                                                                   Drama\n",
       "actor_1_name                                                Scarlett Johansson\n",
       "movie_title                                               Lost in Translation \n",
       "num_voted_users                                                         321283\n",
       "cast_total_facebook_likes                                                32015\n",
       "actor_3_name                                                 Catherine Lambert\n",
       "facenumber_in_poster                                                         0\n",
       "plot_keywords                fish out of water|japanese|loneliness|older ma...\n",
       "movie_imdb_link              http://www.imdb.com/title/tt0335266/?ref_=fn_t...\n",
       "num_user_for_reviews                                                      1848\n",
       "language                                                               English\n",
       "country                                                                    USA\n",
       "content_rating                                                               R\n",
       "budget                                                                   4e+06\n",
       "title_year                                                                2003\n",
       "actor_2_facebook_likes                                                   13000\n",
       "imdb_score                                                                 7.8\n",
       "aspect_ratio                                                              1.85\n",
       "movie_facebook_likes                                                     17000\n",
       "Name: 3888, dtype: object"
      ]
     },
     "execution_count": 342,
     "metadata": {},
     "output_type": "execute_result"
    }
   ],
   "source": [
    "metadata_df.iloc[data_labels[example_id]['id']]"
   ]
  },
  {
   "cell_type": "code",
   "execution_count": 347,
   "metadata": {},
   "outputs": [
    {
     "name": "stdout",
     "output_type": "stream",
     "text": [
      "Predicted labels:  ['Drama']\n",
      "Ground truth labels:  ['Drama']\n"
     ]
    }
   ],
   "source": [
    "model_label_preds = []\n",
    "\n",
    "for i, value in enumerate(model_preds[correct_indexes[example_id]]):\n",
    "    if value == 1:\n",
    "        model_label_preds.append(label_names[i])\n",
    "        \n",
    "ground_truth_labels = metadata_df.iloc[data_labels[example_id]['id']].genres.split('|')\n",
    "        \n",
    "print(f\"Predicted labels: \", model_label_preds)\n",
    "print(f\"Ground truth labels: \", ground_truth_labels)"
   ]
  },
  {
   "cell_type": "code",
   "execution_count": 348,
   "metadata": {},
   "outputs": [
    {
     "data": {
      "text/plain": [
       "array([361, 380, 416, 385, 401])"
      ]
     },
     "execution_count": 348,
     "metadata": {},
     "output_type": "execute_result"
    }
   ],
   "source": [
    "modality_dist[correct_indexes[example_id]]"
   ]
  }
 ],
 "metadata": {
  "kernelspec": {
   "display_name": "Python 3",
   "language": "python",
   "name": "python3"
  },
  "language_info": {
   "codemirror_mode": {
    "name": "ipython",
    "version": 3
   },
   "file_extension": ".py",
   "mimetype": "text/x-python",
   "name": "python",
   "nbconvert_exporter": "python",
   "pygments_lexer": "ipython3",
   "version": "3.7.6"
  }
 },
 "nbformat": 4,
 "nbformat_minor": 4
}
